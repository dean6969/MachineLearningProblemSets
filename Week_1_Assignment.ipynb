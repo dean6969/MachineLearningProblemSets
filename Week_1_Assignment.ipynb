{
 "cells": [
  {
   "cell_type": "markdown",
   "metadata": {
    "colab_type": "text",
    "id": "K-UTH5d-XiQC"
   },
   "source": [
    "#SQL\n"
   ]
  },
  {
   "cell_type": "markdown",
   "metadata": {
    "colab_type": "text",
    "id": "WD0e6TnIW9Hu"
   },
   "source": [
    "##Task 1\n",
    "Query all columns for a city in CITY with the ID 1661.\n",
    "\n",
    "Input Format\n",
    "\n",
    "The CITY table is described as follows: <br>\n",
    "<img src = \"https://s3.amazonaws.com/hr-challenge-images/8137/1449729804-f21d187d0f-CITY.jpg\">\n",
    "\n",
    "1.   List item\n",
    "2.   List item\n",
    "\n"
   ]
  },
  {
   "cell_type": "code",
   "execution_count": null,
   "metadata": {
    "colab": {},
    "colab_type": "code",
    "id": "K4Bt1V9rW_KJ"
   },
   "outputs": [],
   "source": [
    "  SELECT * FROM CITY WHERE ID = 1661;"
   ]
  },
  {
   "cell_type": "markdown",
   "metadata": {
    "colab_type": "text",
    "id": "f6A9keYQXtfC"
   },
   "source": [
    "##Task 2\n",
    "Query all columns for all American cities in CITY with populations larger than 100000. The CountryCode for America is USA.\n",
    "\n",
    "Input Format<br>\n",
    "<img src = \"https://s3.amazonaws.com/hr-challenge-images/8137/1449729804-f21d187d0f-CITY.jpg\">\n"
   ]
  },
  {
   "cell_type": "code",
   "execution_count": null,
   "metadata": {
    "colab": {},
    "colab_type": "code",
    "id": "2AeLf7ooX7O-"
   },
   "outputs": [],
   "source": [
    "SELECT * FROM CITY WHERE COUNTRYCODE = 'USA' AND POPULATION > 100000;"
   ]
  },
  {
   "cell_type": "markdown",
   "metadata": {
    "colab_type": "text",
    "id": "r69LByLtYCY0"
   },
   "source": [
    "##Task 3\n",
    "Query all attributes of every Japanese city in the CITY table. The COUNTRYCODE for Japan is JPN.\n",
    "\n",
    "Input Format:<br>\n",
    "<img src = \"https://s3.amazonaws.com/hr-challenge-images/8137/1449729804-f21d187d0f-CITY.jpg\">"
   ]
  },
  {
   "cell_type": "code",
   "execution_count": null,
   "metadata": {
    "colab": {},
    "colab_type": "code",
    "id": "olzcFs4-YVm6"
   },
   "outputs": [],
   "source": [
    "SELECT * FROM CITY WHERE COUNTRYCODE = 'JPN';"
   ]
  },
  {
   "cell_type": "markdown",
   "metadata": {
    "colab_type": "text",
    "id": "kNb_l0BAYqQY"
   },
   "source": [
    "##Task 4\n",
    "Query the names of all the Japanese cities in the CITY table. The COUNTRYCODE for Japan is JPN.\n",
    "\n",
    "Input Format<br>\n",
    "<img src = \"https://s3.amazonaws.com/hr-challenge-images/8137/1449729804-f21d187d0f-CITY.jpg\">\n"
   ]
  },
  {
   "cell_type": "code",
   "execution_count": null,
   "metadata": {
    "colab": {},
    "colab_type": "code",
    "id": "SGkB1ac5Y8C2"
   },
   "outputs": [],
   "source": [
    "SELECT NAME FROM CITY WHERE COUNTRYCODE = 'JPN';"
   ]
  },
  {
   "cell_type": "markdown",
   "metadata": {
    "colab_type": "text",
    "id": "G_YzuI-hZBeL"
   },
   "source": [
    "##Task 5\n",
    "Query a list of CITY and STATE from the STATION table.\n",
    "\n",
    "Input Format\n",
    "\n",
    "The STATION table is described as follows:<br>\n",
    "<img src = 'https://s3.amazonaws.com/hr-challenge-images/9336/1449345840-5f0a551030-Station.jpg'>"
   ]
  },
  {
   "cell_type": "code",
   "execution_count": null,
   "metadata": {
    "colab": {},
    "colab_type": "code",
    "id": "1WxKBKUOZNUQ"
   },
   "outputs": [],
   "source": [
    "SELECT CITY, STATE FROM STATION;"
   ]
  },
  {
   "cell_type": "markdown",
   "metadata": {
    "colab_type": "text",
    "id": "OqMKxr4hZSBn"
   },
   "source": [
    "##Task 6\n",
    "Query a list of CITY names from STATION with even ID numbers only. You may print the results in any order, but must exclude duplicates from your answer.\n",
    "\n",
    "Input Format\n",
    "\n",
    "The STATION table is described as follows:<br>\n",
    "<img src =\"https://s3.amazonaws.com/hr-challenge-images/9336/1449345840-5f0a551030-Station.jpg\">\n"
   ]
  },
  {
   "cell_type": "code",
   "execution_count": null,
   "metadata": {
    "colab": {},
    "colab_type": "code",
    "id": "OOF-_k34Zg3U"
   },
   "outputs": [],
   "source": [
    "SELECT DISTINCT CITY FROM STATION WHERE (ID % 2) = 0;"
   ]
  },
  {
   "cell_type": "markdown",
   "metadata": {
    "colab_type": "text",
    "id": "ZcN5Ns0fZnT9"
   },
   "source": [
    "Let  be the number of CITY entries in STATION, and let  be the number of distinct CITY names in STATION; query the value of  from STATION. In other words, find the difference between the total number of CITY entries in the table and the number of distinct CITY entries in the table.\n",
    "\n",
    "Input Format\n",
    "\n",
    "The STATION table is described as follows:<br>\n",
    "<img src = \"https://s3.amazonaws.com/hr-challenge-images/9336/1449345840-5f0a551030-Station.jpg\"><br>\n",
    "where LAT_N is the northern latitude and LONG_W is the western longitude."
   ]
  },
  {
   "cell_type": "code",
   "execution_count": null,
   "metadata": {
    "colab": {},
    "colab_type": "code",
    "id": "J8Hcjsl6lVW8"
   },
   "outputs": [],
   "source": [
    "SELECT COUNT(CITY) - COUNT(DISTINCT CITY) FROM STATION;"
   ]
  },
  {
   "cell_type": "markdown",
   "metadata": {
    "colab_type": "text",
    "id": "8fWTW_yflyCC"
   },
   "source": [
    "##Task 7\n",
    "Query the two cities in STATION with the shortest and longest CITY names, as well as their respective lengths (i.e.: number of characters in the name). If there is more than one smallest or largest city, choose the one that comes first when ordered alphabetically.\n",
    "\n",
    "Input Format\n",
    "\n",
    "The STATION table is described as follows:<br>\n",
    "  <img src = \"https://s3.amazonaws.com/hr-challenge-images/9336/1449345840-5f0a551030-Station.jpg\">\n",
    "  "
   ]
  },
  {
   "cell_type": "code",
   "execution_count": null,
   "metadata": {
    "colab": {},
    "colab_type": "code",
    "id": "zPqGViBgl4mL"
   },
   "outputs": [],
   "source": [
    "#shortest\n",
    "SELECT CITY, LENGTH(CITY) FROM STATION ORDER BY LENGTH(CITY), CITY LIMIT 1;\n",
    "#longest\n",
    "SELECT CITY, LENGTH(CITY) FROM STATION ORDER BY LENGTH(CITY) DESC, CITY LIMIT 1;"
   ]
  },
  {
   "cell_type": "markdown",
   "metadata": {
    "colab_type": "text",
    "id": "34DxPDy5l9N2"
   },
   "source": [
    "##Task 8\n",
    "Query the list of CITY names starting with vowels (i.e., a, e, i, o, or u) from STATION. Your result cannot contain duplicates.\n",
    "\n",
    "Input Format\n",
    "\n",
    "The STATION table is described as follows: <br>\n",
    "<img src = \"https://s3.amazonaws.com/hr-challenge-images/9336/1449345840-5f0a551030-Station.jpg\" >\n"
   ]
  },
  {
   "cell_type": "code",
   "execution_count": null,
   "metadata": {
    "colab": {},
    "colab_type": "code",
    "id": "RWRar3_emQ7Y"
   },
   "outputs": [],
   "source": [
    "SELECT DISTINCT CITY FROM STATION WHERE CITY LIKE 'A%'\n",
    "Or CITY LIKE 'E%'\n",
    "OR CITY LIKE 'I%'\n",
    "OR CITY LIKE 'O%'\n",
    "OR CITY LIKE 'U%'\n",
    "OR CITY LIKE 'a%'\n",
    "OR CITY LIKE 'e%'\n",
    "OR CITY LIKE 'i%'\n",
    "OR CITY LIKE 'o%'\n",
    "OR CITY LIKE 'u%'';"
   ]
  },
  {
   "cell_type": "markdown",
   "metadata": {
    "colab_type": "text",
    "id": "E1WTjlFPmTfp"
   },
   "source": [
    "##Task 9\n",
    "Query the list of CITY names ending with vowels (a, e, i, o, u) from STATION. Your result cannot contain duplicates.\n",
    "\n",
    "Input Format\n",
    "\n",
    "The STATION table is described as follows:<br>\n",
    "<img src =\"https://s3.amazonaws.com/hr-challenge-images/9336/1449345840-5f0a551030-Station.jpg\">\n"
   ]
  },
  {
   "cell_type": "code",
   "execution_count": null,
   "metadata": {
    "colab": {},
    "colab_type": "code",
    "id": "wQ7n53Lwmp1Z"
   },
   "outputs": [],
   "source": [
    "SELECT DISTINCT CITY FROM STATION WHERE CITY LIKE '%A'\n",
    "Or CITY LIKE '%E'\n",
    "OR CITY LIKE '%I'\n",
    "OR CITY LIKE '%O'\n",
    "OR CITY LIKE '%U'\n",
    "OR CITY LIKE '%a'\n",
    "OR CITY LIKE '%e'\n",
    "OR CITY LIKE '%i'\n",
    "OR CITY LIKE '%o'\n",
    "OR CITY LIKE '%u';"
   ]
  },
  {
   "cell_type": "markdown",
   "metadata": {
    "colab_type": "text",
    "id": "bNSYroclmsPI"
   },
   "source": [
    "##Task 10\n",
    "Query the list of CITY names from STATION which have vowels (i.e., a, e, i, o, and u) as both their first and last characters. Your result cannot contain duplicates.\n",
    "\n",
    "Input Format\n",
    "\n",
    "The STATION table is described as follows:<br>\n",
    "<img src =\"https://s3.amazonaws.com/hr-challenge-images/9336/1449345840-5f0a551030-Station.jpg\">"
   ]
  },
  {
   "cell_type": "code",
   "execution_count": null,
   "metadata": {
    "colab": {},
    "colab_type": "code",
    "id": "PQZ0Tecam6hD"
   },
   "outputs": [],
   "source": [
    "SELECT DISTINCT CITY FROM STATION WHERE CITY LIKE '%A'\n",
    "Or CITY LIKE '%E'\n",
    "OR CITY LIKE '%I'\n",
    "OR CITY LIKE '%O'\n",
    "OR CITY LIKE '%U'\n",
    "OR CITY LIKE '%a'\n",
    "OR CITY LIKE '%e'\n",
    "OR CITY LIKE '%i'\n",
    "OR CITY LIKE '%o'\n",
    "OR CITY LIKE '%u'\n",
    "OR CITY LIKE 'A%'\n",
    "Or CITY LIKE 'E%'\n",
    "OR CITY LIKE 'I%'\n",
    "OR CITY LIKE 'O%'\n",
    "OR CITY LIKE 'U%'\n",
    "OR CITY LIKE 'a%'\n",
    "OR CITY LIKE 'e%'\n",
    "OR CITY LIKE 'i%'\n",
    "OR CITY LIKE 'o%'\n",
    "OR CITY LIKE 'u%;"
   ]
  },
  {
   "cell_type": "markdown",
   "metadata": {
    "colab_type": "text",
    "id": "DJT7d3P6nJx9"
   },
   "source": [
    "#Python"
   ]
  },
  {
   "cell_type": "markdown",
   "metadata": {
    "colab_type": "text",
    "id": "6IwVOztbngOn"
   },
   "source": [
    "##Task 1\n",
    "Task\n",
    "Given an integer, perform the following conditional actions:\n",
    "\n",
    "* If n is odd, print `Weird`\n",
    "* If n is even and in the inclusive range of 2 to 5, print `Not Weird`\n",
    "* If n is even and in the inclusive range of 6 to 20, print `Weird`\n",
    "* If n is even and greater than 20, print `Not Weird`\n",
    "\n",
    "Input Format\n",
    "\n",
    "A single line containing a positive integer\n",
    "\n",
    "Output Format\n",
    "\n",
    "Print Weird if the number is weird; otherwise, print Not Weird."
   ]
  },
  {
   "cell_type": "code",
   "execution_count": 2,
   "metadata": {
    "colab": {},
    "colab_type": "code",
    "id": "1BfL6RuLoXFl"
   },
   "outputs": [
    {
     "name": "stdout",
     "output_type": "stream",
     "text": [
      "33\n",
      "Weird\n"
     ]
    }
   ],
   "source": [
    "if __name__ == '__main__':\n",
    "    n = int(input())\n",
    "    if n % 2 == 1: \n",
    "        print('Weird')\n",
    "    else:\n",
    "        if (n >= 2) and (n <= 5):\n",
    "            print('Not Weird')\n",
    "        elif (n >= 6) and (n <= 20):\n",
    "            print('Weird')\n",
    "        else:\n",
    "            print('Not Weird')"
   ]
  },
  {
   "cell_type": "markdown",
   "metadata": {
    "colab_type": "text",
    "id": "ZozvHrq_o3VH"
   },
   "source": [
    "##Task 2\n",
    "Read two integers from STDIN and print three lines where:\n",
    "<ol>\n",
    "  <li>The first line contains the sum of the two numbers.</li>\n",
    "  <li>The second line contains the difference of the two numbers (first - second).</li>\n",
    "  <li>The third line contains the product of the two numbers.</li>\n",
    "</ol>\n",
    "\n",
    "**Input Format**\n",
    "\n",
    "The first line contains the first integer, **a**. The second line contains the second integer, **b**.\n",
    "\n",
    "**Output Format**\n",
    "\n",
    "Print the three lines as explained above."
   ]
  },
  {
   "cell_type": "code",
   "execution_count": null,
   "metadata": {
    "colab": {},
    "colab_type": "code",
    "id": "W59QuFDUp8A6"
   },
   "outputs": [],
   "source": [
    "if __name__ == '__main__':\n",
    "    a = int(input())\n",
    "    b = int(input())\n",
    "    "
   ]
  },
  {
   "cell_type": "markdown",
   "metadata": {
    "colab_type": "text",
    "id": "nRtP3Qt4qWPW"
   },
   "source": [
    "#Task 3\n",
    "Task\n",
    "Read an integer $N$. For all non-negative integers $i<N$ , print $i^{2}$. See the sample for details.\n",
    "\n",
    "Input Format\n",
    "\n",
    "The first and only line contains the integer, $N$ .\n",
    "\n",
    "Constraints<br>\n",
    "$1 \\leq N \\leq i$\n",
    "\n",
    "Output Format\n",
    "\n",
    "Print $N$ lines, one corresponding to each $i$."
   ]
  },
  {
   "cell_type": "code",
   "execution_count": 3,
   "metadata": {
    "colab": {},
    "colab_type": "code",
    "id": "vwwkRd5kqPt6"
   },
   "outputs": [
    {
     "name": "stdout",
     "output_type": "stream",
     "text": [
      "4\n",
      "1\n",
      "4\n",
      "9\n"
     ]
    }
   ],
   "source": [
    "if __name__ == '__main__':\n",
    "    n = int(input())\n",
    "    for i in range(1,n):\n",
    "        print(i**2)"
   ]
  },
  {
   "cell_type": "markdown",
   "metadata": {
    "colab_type": "text",
    "id": "6dXblWaxrpaA"
   },
   "source": [
    "##Task 4\n",
    "We add a Leap Day on February 29, almost every four years. The leap day is an extra, or intercalary day and we add it to the shortest month of the year, February.<br>\n",
    "\n",
    "In the Gregorian calendar three criteria must be taken into account to identify leap years:\n",
    "<ul>\n",
    "<li>The year can be evenly divided by 4, is a leap year, unless:</li>\n",
    "  <ul><li>The year can be evenly divided by 100, it is NOT a leap year, unless:</li>\n",
    "    <ul><li>The year is also evenly divisible by 400. Then it is a leap year.</li></ul></ul></ul>\n",
    "This means that in the Gregorian calendar, the years 2000 and 2400 are leap years, while 1800, 1900, 2100, 2200, 2300 and 2500 are NOT leap years.Source\n",
    "\n",
    "**Task**<br>\n",
    "<ul>\n",
    "<li>You are given the year, and you have to write a function to check if the year is leap or not.</li>\n",
    "\n",
    "  <li>Note that you have to complete the function and remaining code is given as template.</li>\n",
    "  </ul>\n",
    "\n",
    "**Input Format**\n",
    "\n",
    "Read y, the year that needs to be checked.\n",
    "\n",
    "**Constraints**<br>\n",
    "$1900 \\leq y \\leq 10^{5}$\n",
    "\n",
    "**Output Format**\n",
    "\n",
    "Output is taken care of by the template. Your function must return a boolean value (True/False)\n",
    "\n"
   ]
  },
  {
   "cell_type": "code",
   "execution_count": 6,
   "metadata": {
    "colab": {},
    "colab_type": "code",
    "id": "8W6xXR9NtrUL"
   },
   "outputs": [],
   "source": [
    "def is_leap(year):\n",
    "    if year % 400 == 0:\n",
    "        return True\n",
    "    elif year % 100 == 0:\n",
    "        return False\n",
    "    elif year & 4 == 0:\n",
    "        return True\n",
    "    else:\n",
    "        return False"
   ]
  },
  {
   "cell_type": "code",
   "execution_count": 7,
   "metadata": {},
   "outputs": [
    {
     "data": {
      "text/plain": [
       "[True, True, False, False, False, False, False, False]"
      ]
     },
     "execution_count": 7,
     "metadata": {},
     "output_type": "execute_result"
    }
   ],
   "source": [
    "a = [2000, 2400, 1800, 1900, 2100, 2200, 2300, 2500]\n",
    "b = []\n",
    "for i in a:\n",
    "    b.append(is_leap(i))\n",
    "b"
   ]
  },
  {
   "cell_type": "markdown",
   "metadata": {
    "colab_type": "text",
    "id": "B2WQ4__LrpBZ"
   },
   "source": [
    "##Task 5\n",
    "Given the participants' score sheet for your University Sports Day, you are required to find the runner-up score. You are given $n$ scores. Store them in a list and find the score of the runner-up.\n",
    "\n",
    "**Input Format**\n",
    "\n",
    "The first line contains $n$ . The second line contains an array $A[]$ of $n$ integers each separated by a space.\n",
    "\n",
    "**Constraints**<br>\n",
    "$2   \\leq n \\leq 10 $<br>\n",
    "$-100 \\leq A[i] \\leq 100 $\n",
    "\n",
    "Output Format\n",
    "\n",
    "Print the runner-up score."
   ]
  },
  {
   "cell_type": "code",
   "execution_count": 8,
   "metadata": {
    "colab": {},
    "colab_type": "code",
    "id": "xp0z6_EEuwFI"
   },
   "outputs": [
    {
     "name": "stdout",
     "output_type": "stream",
     "text": [
      "6\n",
      "1 2 6 4 5 8 \n",
      "6\n"
     ]
    }
   ],
   "source": [
    "if __name__ == '__main__':\n",
    "    n = int(input())\n",
    "    arr = map(int, input().split())\n",
    "    print (sorted(set(arr))[-2])"
   ]
  }
 ],
 "metadata": {
  "colab": {
   "collapsed_sections": [],
   "name": "Week 1 Assignment",
   "provenance": [],
   "toc_visible": true
  },
  "kernelspec": {
   "display_name": "Python 3",
   "language": "python",
   "name": "python3"
  },
  "language_info": {
   "codemirror_mode": {
    "name": "ipython",
    "version": 3
   },
   "file_extension": ".py",
   "mimetype": "text/x-python",
   "name": "python",
   "nbconvert_exporter": "python",
   "pygments_lexer": "ipython3",
   "version": "3.7.6"
  }
 },
 "nbformat": 4,
 "nbformat_minor": 1
}
